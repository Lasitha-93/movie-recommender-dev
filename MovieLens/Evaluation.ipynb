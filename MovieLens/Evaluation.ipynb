{
 "cells": [
  {
   "cell_type": "code",
   "execution_count": 1,
   "metadata": {
    "collapsed": true
   },
   "outputs": [],
   "source": [
    "from math import sqrt\n",
    "import pandas as pd\n",
    "from math import sqrt\n",
    "import json\n",
    "from sklearn.metrics import mean_squared_error,mean_absolute_error,explained_variance_score\n",
    "\n",
    "# y_actual = [1,1,3,4,2,2,3,1,3,5]\n",
    "# y_predicted = [1,5,3,4,2,2,3,1,3,5]\n",
    "\n",
    "# mse = mean_squared_error(y_actual, y_predicted)\n",
    "# rmse = sqrt(mean_squared_error(y_actual, y_predicted))\n",
    "\n",
    "# print(mse)\n",
    "# print(rmse)"
   ]
  },
  {
   "cell_type": "code",
   "execution_count": 2,
   "metadata": {},
   "outputs": [
    {
     "name": "stdout",
     "output_type": "stream",
     "text": [
      "1.555251239915202\n",
      "19940\n",
      "19940\n"
     ]
    }
   ],
   "source": [
    "with open('./recommendations/watch_list_basic_rec.json') as file:\n",
    "    new_data = json.load(file)\n",
    "    \n",
    "rating_data_test = pd.read_csv(\"./resource/u1.test\", delimiter=\"\\t\", names=[\"user id\", \"item id\", \"rating\", \"timestamp\"])\n",
    "\n",
    "actual_ratings = []\n",
    "predicted_ratings = []\n",
    "\n",
    "for id in range(1, 944, 1):\n",
    "\n",
    "    data_by_user = rating_data_test.loc[rating_data_test['user id'] == id]\n",
    "    predicted_data = new_data[str(id)]\n",
    "    \n",
    "    for i, rated_movie in data_by_user.iterrows():\n",
    "        if predicted_data.get(str(rated_movie['item id'])) != None:\n",
    "            actual_ratings.append(rated_movie['rating'])\n",
    "            predicted_ratings.append(int(predicted_data.get(str(rated_movie['item id']))))\n",
    "\n",
    "root_mean_square_error = sqrt(mean_squared_error(actual_ratings, predicted_ratings))\n",
    "print(root_mean_square_error)\n",
    "    \n",
    "print(len(actual_ratings))\n",
    "print(len(predicted_ratings))"
   ]
  },
  {
   "cell_type": "code",
   "execution_count": 3,
   "metadata": {
    "scrolled": true
   },
   "outputs": [
    {
     "name": "stdout",
     "output_type": "stream",
     "text": [
      "1.5946845550541353\n",
      "19968\n",
      "19968\n"
     ]
    }
   ],
   "source": [
    "with open('./recommendations/user_feature_based_rec.json') as file:\n",
    "    new_data = json.load(file)\n",
    "    \n",
    "rating_data_test = pd.read_csv(\"./resource/u1.test\", delimiter=\"\\t\", names=[\"user id\", \"item id\", \"rating\", \"timestamp\"])\n",
    "\n",
    "actual_ratings = []\n",
    "predicted_ratings = []\n",
    "\n",
    "for id in range(1, 944, 1):\n",
    "\n",
    "    data_by_user = rating_data_test.loc[rating_data_test['user id'] == id]\n",
    "    predicted_data = new_data[str(id)]\n",
    "    \n",
    "    for i, rated_movie in data_by_user.iterrows():\n",
    "        if predicted_data.get(str(rated_movie['item id'])) != None:\n",
    "            actual_ratings.append(rated_movie['rating'])\n",
    "            predicted_ratings.append(int(predicted_data.get(str(rated_movie['item id']))))\n",
    "\n",
    "root_mean_square_error = sqrt(mean_squared_error(actual_ratings, predicted_ratings))\n",
    "print(root_mean_square_error)\n",
    "    \n",
    "print(len(actual_ratings))\n",
    "print(len(predicted_ratings))"
   ]
  },
  {
   "cell_type": "code",
   "execution_count": 4,
   "metadata": {},
   "outputs": [
    {
     "name": "stdout",
     "output_type": "stream",
     "text": [
      "1.1823159410191195\n",
      "19968\n",
      "19968\n"
     ]
    }
   ],
   "source": [
    "with open('./recommendations/user_feature_based_avg_rec.json') as file:\n",
    "    new_data = json.load(file)\n",
    "\n",
    "rating_data_test = pd.read_csv(\"./resource/u1.test\", delimiter=\"\\t\", names=[\"user id\", \"item id\", \"rating\", \"timestamp\"])\n",
    "\n",
    "actual_ratings = []\n",
    "predicted_ratings = []\n",
    "\n",
    "for id in range(1, 944, 1):\n",
    "\n",
    "    data_by_user = rating_data_test.loc[rating_data_test['user id'] == id]\n",
    "    predicted_data = new_data[str(id)]\n",
    "    \n",
    "    for i, rated_movie in data_by_user.iterrows():\n",
    "        if predicted_data.get(str(rated_movie['item id'])) != None:\n",
    "            actual_ratings.append(rated_movie['rating'])\n",
    "            predicted_ratings.append(float(predicted_data.get(str(rated_movie['item id']))))\n",
    "\n",
    "root_mean_square_error = sqrt(mean_squared_error(actual_ratings, predicted_ratings))\n",
    "print(root_mean_square_error)\n",
    "    \n",
    "print(len(actual_ratings))\n",
    "print(len(predicted_ratings))"
   ]
  },
  {
   "cell_type": "code",
   "execution_count": 5,
   "metadata": {},
   "outputs": [
    {
     "name": "stdout",
     "output_type": "stream",
     "text": [
      "1.179294223884418\n",
      "19968\n",
      "19968\n"
     ]
    }
   ],
   "source": [
    "with open('./recommendations/user_feature_based_avg_rec_cosine.json') as file:\n",
    "    new_data = json.load(file)\n",
    "\n",
    "rating_data_test = pd.read_csv(\"./resource/u1.test\", delimiter=\"\\t\", names=[\"user id\", \"item id\", \"rating\", \"timestamp\"])\n",
    "\n",
    "actual_ratings = []\n",
    "predicted_ratings = []\n",
    "\n",
    "for id in range(1, 944, 1):\n",
    "\n",
    "    data_by_user = rating_data_test.loc[rating_data_test['user id'] == id]\n",
    "    predicted_data = new_data[str(id)]\n",
    "    \n",
    "    for i, rated_movie in data_by_user.iterrows():\n",
    "        if predicted_data.get(str(rated_movie['item id'])) != None:\n",
    "            actual_ratings.append(rated_movie['rating'])\n",
    "            predicted_ratings.append(float(predicted_data.get(str(rated_movie['item id']))))\n",
    "\n",
    "root_mean_square_error = sqrt(mean_squared_error(actual_ratings, predicted_ratings))\n",
    "print(root_mean_square_error)\n",
    "    \n",
    "print(len(actual_ratings))\n",
    "print(len(predicted_ratings))"
   ]
  },
  {
   "cell_type": "code",
   "execution_count": 6,
   "metadata": {},
   "outputs": [
    {
     "name": "stdout",
     "output_type": "stream",
     "text": [
      "2.2189405468531316\n",
      "1107\n",
      "1107\n"
     ]
    }
   ],
   "source": [
    "# for all the other movies based on top five movies\n",
    "with open('./recommendations/content_feature_based_rec.json') as file:\n",
    "    new_data = json.load(file)\n",
    "\n",
    "rating_data_test = pd.read_csv(\"./resource/u1.test\", delimiter=\"\\t\", names=[\"user id\", \"item id\", \"rating\", \"timestamp\"])\n",
    "\n",
    "actual_ratings = []\n",
    "predicted_ratings = []\n",
    "\n",
    "for id in range(1, 20, 1):\n",
    "\n",
    "    data_by_user = rating_data_test.loc[rating_data_test['user id'] == id]\n",
    "    predicted_data = new_data[str(id)]\n",
    "    \n",
    "    for i, rated_movie in data_by_user.iterrows():\n",
    "        if predicted_data.get(str(rated_movie['item id'])) != None:\n",
    "            actual_ratings.append(rated_movie['rating'])\n",
    "            predicted_ratings.append(float(predicted_data.get(str(rated_movie['item id']))))\n",
    "\n",
    "root_mean_square_error = sqrt(mean_squared_error(actual_ratings, predicted_ratings))\n",
    "print(root_mean_square_error)\n",
    "    \n",
    "print(len(actual_ratings))\n",
    "print(len(predicted_ratings))"
   ]
  },
  {
   "cell_type": "code",
   "execution_count": 7,
   "metadata": {},
   "outputs": [
    {
     "name": "stdout",
     "output_type": "stream",
     "text": [
      "1.179294223884418\n",
      "19968\n",
      "19968\n"
     ]
    }
   ],
   "source": [
    "with open('./recommendations/user_feature_based_avg_rec_cosine.json') as file:\n",
    "    new_data = json.load(file)\n",
    "\n",
    "rating_data_test = pd.read_csv(\"./resource/u1.test\", delimiter=\"\\t\", names=[\"user id\", \"item id\", \"rating\", \"timestamp\"])\n",
    "\n",
    "actual_ratings = []\n",
    "predicted_ratings = []\n",
    "\n",
    "# rmse_over_base = 0\n",
    "# rmse_below_base = 0\n",
    "# base_value = 1.555251239915202\n",
    "\n",
    "for id in range(1, 944, 1):\n",
    "    user_actual_ratings = []\n",
    "    user_predicted_ratings = []\n",
    "#     print(user_actual_ratings)\n",
    "#     print(user_predicted_ratings)\n",
    "\n",
    "    data_by_user = rating_data_test.loc[rating_data_test['user id'] == id]\n",
    "#     print(data_by_user)\n",
    "    predicted_data = new_data[str(id)]\n",
    "    \n",
    "    for i, rated_movie in data_by_user.iterrows():\n",
    "        if predicted_data.get(str(rated_movie['item id'])) != None:\n",
    "            user_actual_ratings.append(rated_movie['rating'])\n",
    "            user_predicted_ratings.append(float(predicted_data.get(str(rated_movie['item id']))))\n",
    "            \n",
    "            actual_ratings.append(rated_movie['rating'])\n",
    "            predicted_ratings.append(float(predicted_data.get(str(rated_movie['item id']))))\n",
    "    \n",
    "#     if len(user_actual_ratings)>0:\n",
    "#         user_current_rmse = sqrt(mean_squared_error(user_actual_ratings, user_predicted_ratings))\n",
    "#         if current_rmse>base_value:\n",
    "#             rmse_over_base += 1\n",
    "#         else:\n",
    "#             rmse_below_base += 1\n",
    "\n",
    "root_mean_square_error = sqrt(mean_squared_error(actual_ratings, predicted_ratings))\n",
    "print(root_mean_square_error)\n",
    "    \n",
    "print(len(actual_ratings))\n",
    "print(len(predicted_ratings))\n",
    "# print(rmse_over_base)\n",
    "# print(rmse_below_base)\n"
   ]
  },
  {
   "cell_type": "code",
   "execution_count": 8,
   "metadata": {},
   "outputs": [
    {
     "name": "stdout",
     "output_type": "stream",
     "text": [
      "2.490061744815738\n",
      "4130\n",
      "4130\n"
     ]
    }
   ],
   "source": [
    "# for all the other movies based on five movie feature profiles\n",
    "with open('./recommendations/five_movies_user_feature_based_rec.json') as file:\n",
    "    new_data = json.load(file)\n",
    "\n",
    "rating_data_test = pd.read_csv(\"./resource/u1.test\", delimiter=\"\\t\", names=[\"user id\", \"item id\", \"rating\", \"timestamp\"])\n",
    "\n",
    "actual_ratings = []\n",
    "predicted_ratings = []\n",
    "\n",
    "for id in range(1, 101, 1):\n",
    "\n",
    "    data_by_user = rating_data_test.loc[rating_data_test['user id'] == id]\n",
    "    predicted_data = new_data[str(id)]\n",
    "    \n",
    "    for i, rated_movie in data_by_user.iterrows():\n",
    "        if predicted_data.get(str(rated_movie['item id'])) != None:\n",
    "            actual_ratings.append(rated_movie['rating'])\n",
    "            predicted_ratings.append(float(predicted_data.get(str(rated_movie['item id']))))\n",
    "\n",
    "root_mean_square_error = sqrt(mean_squared_error(actual_ratings, predicted_ratings))\n",
    "print(root_mean_square_error)\n",
    "    \n",
    "print(len(actual_ratings))\n",
    "print(len(predicted_ratings))"
   ]
  },
  {
   "cell_type": "code",
   "execution_count": 9,
   "metadata": {},
   "outputs": [
    {
     "name": "stdout",
     "output_type": "stream",
     "text": [
      "1.1672136381987335\n",
      "5057\n",
      "5057\n"
     ]
    }
   ],
   "source": [
    "with open('./recommendations/first_five_user_feature_based_avg_rec.json') as file:\n",
    "    new_data = json.load(file)\n",
    "\n",
    "rating_data_test = pd.read_csv(\"./resource/u1.test\", delimiter=\"\\t\", names=[\"user id\", \"item id\", \"rating\", \"timestamp\"])\n",
    "\n",
    "actual_ratings = []\n",
    "predicted_ratings = []\n",
    "\n",
    "for id in range(1, 101, 1):\n",
    "\n",
    "    data_by_user = rating_data_test.loc[rating_data_test['user id'] == id]\n",
    "    predicted_data = new_data[str(id)]\n",
    "    \n",
    "    for i, rated_movie in data_by_user.iterrows():\n",
    "        if predicted_data.get(str(rated_movie['item id'])) != None:\n",
    "            actual_ratings.append(rated_movie['rating'])\n",
    "            predicted_ratings.append(float(predicted_data.get(str(rated_movie['item id']))))\n",
    "\n",
    "root_mean_square_error = sqrt(mean_squared_error(actual_ratings, predicted_ratings))\n",
    "print(root_mean_square_error)\n",
    "    \n",
    "print(len(actual_ratings))\n",
    "print(len(predicted_ratings))"
   ]
  },
  {
   "cell_type": "code",
   "execution_count": 10,
   "metadata": {},
   "outputs": [
    {
     "name": "stdout",
     "output_type": "stream",
     "text": [
      "1.1873932005654542\n",
      "19940\n",
      "19940\n"
     ]
    }
   ],
   "source": [
    "with open('./recommendations/watch_list_based_avg_rec.json') as file:\n",
    "    new_data = json.load(file)\n",
    "    \n",
    "rating_data_test = pd.read_csv(\"./resource/u1.test\", delimiter=\"\\t\", names=[\"user id\", \"item id\", \"rating\", \"timestamp\"])\n",
    "\n",
    "actual_ratings = []\n",
    "predicted_ratings = []\n",
    "\n",
    "for id in range(1, 944, 1):\n",
    "\n",
    "    data_by_user = rating_data_test.loc[rating_data_test['user id'] == id]\n",
    "    predicted_data = new_data[str(id)]\n",
    "    \n",
    "    for i, rated_movie in data_by_user.iterrows():\n",
    "        if predicted_data.get(str(rated_movie['item id'])) != None:\n",
    "            actual_ratings.append(rated_movie['rating'])\n",
    "            predicted_ratings.append(float(predicted_data.get(str(rated_movie['item id']))))\n",
    "\n",
    "root_mean_square_error = sqrt(mean_squared_error(actual_ratings, predicted_ratings))\n",
    "print(root_mean_square_error)\n",
    "    \n",
    "print(len(actual_ratings))\n",
    "print(len(predicted_ratings))"
   ]
  },
  {
   "cell_type": "code",
   "execution_count": 11,
   "metadata": {},
   "outputs": [
    {
     "name": "stdout",
     "output_type": "stream",
     "text": [
      "1.2737300701795988\n",
      "16031\n",
      "16031\n"
     ]
    }
   ],
   "source": [
    "with open('./recommendations/first_five_watch_list_based_avg_rec.json') as file:\n",
    "    new_data = json.load(file)\n",
    "    \n",
    "rating_data_test = pd.read_csv(\"./resource/u1.test\", delimiter=\"\\t\", names=[\"user id\", \"item id\", \"rating\", \"timestamp\"])\n",
    "\n",
    "actual_ratings = []\n",
    "predicted_ratings = []\n",
    "\n",
    "for id in range(1, 944, 1):\n",
    "\n",
    "    data_by_user = rating_data_test.loc[rating_data_test['user id'] == id]\n",
    "    predicted_data = new_data[str(id)]\n",
    "    \n",
    "    for i, rated_movie in data_by_user.iterrows():\n",
    "        if predicted_data.get(str(rated_movie['item id'])) != None:\n",
    "            actual_ratings.append(rated_movie['rating'])\n",
    "            predicted_ratings.append(float(predicted_data.get(str(rated_movie['item id']))))\n",
    "\n",
    "root_mean_square_error = sqrt(mean_squared_error(actual_ratings, predicted_ratings))\n",
    "print(root_mean_square_error)\n",
    "    \n",
    "print(len(actual_ratings))\n",
    "print(len(predicted_ratings))"
   ]
  },
  {
   "cell_type": "code",
   "execution_count": 12,
   "metadata": {},
   "outputs": [
    {
     "name": "stdout",
     "output_type": "stream",
     "text": [
      "1.195928318783531\n",
      "19850\n",
      "19850\n"
     ]
    }
   ],
   "source": [
    "with open('./recommendations/first_five_watch_list_based_cosine_avg_rec.json') as file:\n",
    "    new_data = json.load(file)\n",
    "    \n",
    "rating_data_test = pd.read_csv(\"./resource/u1.test\", delimiter=\"\\t\", names=[\"user id\", \"item id\", \"rating\", \"timestamp\"])\n",
    "\n",
    "actual_ratings = []\n",
    "predicted_ratings = []\n",
    "\n",
    "for id in range(1, 944, 1):\n",
    "\n",
    "    data_by_user = rating_data_test.loc[rating_data_test['user id'] == id]\n",
    "    predicted_data = new_data[str(id)]\n",
    "    \n",
    "    for i, rated_movie in data_by_user.iterrows():\n",
    "        if predicted_data.get(str(rated_movie['item id'])) != None:\n",
    "            actual_ratings.append(rated_movie['rating'])\n",
    "            predicted_ratings.append(float(predicted_data.get(str(rated_movie['item id']))))\n",
    "\n",
    "root_mean_square_error = sqrt(mean_squared_error(actual_ratings, predicted_ratings))\n",
    "print(root_mean_square_error)\n",
    "    \n",
    "print(len(actual_ratings))\n",
    "print(len(predicted_ratings))"
   ]
  },
  {
   "cell_type": "code",
   "execution_count": 13,
   "metadata": {},
   "outputs": [
    {
     "name": "stdout",
     "output_type": "stream",
     "text": [
      "1.3046334621695228\n",
      "14186\n",
      "14186\n"
     ]
    }
   ],
   "source": [
    "with open('./recommendations/first_four_watch_list_based_avg_rec.json') as file:\n",
    "    new_data = json.load(file)\n",
    "    \n",
    "rating_data_test = pd.read_csv(\"./resource/u1.test\", delimiter=\"\\t\", names=[\"user id\", \"item id\", \"rating\", \"timestamp\"])\n",
    "\n",
    "actual_ratings = []\n",
    "predicted_ratings = []\n",
    "\n",
    "for id in range(1, 944, 1):\n",
    "\n",
    "    data_by_user = rating_data_test.loc[rating_data_test['user id'] == id]\n",
    "    predicted_data = new_data[str(id)]\n",
    "    \n",
    "    for i, rated_movie in data_by_user.iterrows():\n",
    "        if predicted_data.get(str(rated_movie['item id'])) != None:\n",
    "            actual_ratings.append(rated_movie['rating'])\n",
    "            predicted_ratings.append(float(predicted_data.get(str(rated_movie['item id']))))\n",
    "\n",
    "root_mean_square_error = sqrt(mean_squared_error(actual_ratings, predicted_ratings))\n",
    "print(root_mean_square_error)\n",
    "    \n",
    "print(len(actual_ratings))\n",
    "print(len(predicted_ratings))"
   ]
  },
  {
   "cell_type": "code",
   "execution_count": 14,
   "metadata": {},
   "outputs": [
    {
     "name": "stdout",
     "output_type": "stream",
     "text": [
      "1.2737300701795988\n",
      "16031\n",
      "16031\n"
     ]
    }
   ],
   "source": [
    "with open('./recommendations/first_six_watch_list_based_avg_rec.json') as file:\n",
    "    new_data = json.load(file)\n",
    "    \n",
    "rating_data_test = pd.read_csv(\"./resource/u1.test\", delimiter=\"\\t\", names=[\"user id\", \"item id\", \"rating\", \"timestamp\"])\n",
    "\n",
    "actual_ratings = []\n",
    "predicted_ratings = []\n",
    "\n",
    "for id in range(1, 944, 1):\n",
    "\n",
    "    data_by_user = rating_data_test.loc[rating_data_test['user id'] == id]\n",
    "    predicted_data = new_data[str(id)]\n",
    "    \n",
    "    for i, rated_movie in data_by_user.iterrows():\n",
    "        if predicted_data.get(str(rated_movie['item id'])) != None:\n",
    "            actual_ratings.append(rated_movie['rating'])\n",
    "            predicted_ratings.append(float(predicted_data.get(str(rated_movie['item id']))))\n",
    "\n",
    "root_mean_square_error = sqrt(mean_squared_error(actual_ratings, predicted_ratings))\n",
    "print(root_mean_square_error)\n",
    "    \n",
    "print(len(actual_ratings))\n",
    "print(len(predicted_ratings))"
   ]
  },
  {
   "cell_type": "code",
   "execution_count": 15,
   "metadata": {},
   "outputs": [
    {
     "name": "stdout",
     "output_type": "stream",
     "text": [
      "1.3046334621695228\n",
      "14186\n",
      "14186\n"
     ]
    }
   ],
   "source": [
    "with open('./recommendations/first_four_watch_list_based_avg_rec.json') as file:\n",
    "    new_data = json.load(file)\n",
    "    \n",
    "rating_data_test = pd.read_csv(\"./resource/u1.test\", delimiter=\"\\t\", names=[\"user id\", \"item id\", \"rating\", \"timestamp\"])\n",
    "\n",
    "actual_ratings = []\n",
    "predicted_ratings = []\n",
    "\n",
    "for id in range(1, 944, 1):\n",
    "\n",
    "    data_by_user = rating_data_test.loc[rating_data_test['user id'] == id]\n",
    "    predicted_data = new_data[str(id)]\n",
    "    \n",
    "    for i, rated_movie in data_by_user.iterrows():\n",
    "        if predicted_data.get(str(rated_movie['item id'])) != None:\n",
    "            actual_ratings.append(rated_movie['rating'])\n",
    "            predicted_ratings.append(float(predicted_data.get(str(rated_movie['item id']))))\n",
    "\n",
    "root_mean_square_error = sqrt(mean_squared_error(actual_ratings, predicted_ratings))\n",
    "print(root_mean_square_error)\n",
    "    \n",
    "print(len(actual_ratings))\n",
    "print(len(predicted_ratings))"
   ]
  },
  {
   "cell_type": "code",
   "execution_count": 16,
   "metadata": {},
   "outputs": [
    {
     "name": "stdout",
     "output_type": "stream",
     "text": [
      "1.2434859153253366\n",
      "17908\n",
      "17908\n"
     ]
    }
   ],
   "source": [
    "with open('./recommendations/first_seven_watch_list_based_avg_rec.json') as file:\n",
    "    new_data = json.load(file)\n",
    "    \n",
    "rating_data_test = pd.read_csv(\"./resource/u1.test\", delimiter=\"\\t\", names=[\"user id\", \"item id\", \"rating\", \"timestamp\"])\n",
    "\n",
    "actual_ratings = []\n",
    "predicted_ratings = []\n",
    "\n",
    "for id in range(1, 944, 1):\n",
    "\n",
    "    data_by_user = rating_data_test.loc[rating_data_test['user id'] == id]\n",
    "    predicted_data = new_data[str(id)]\n",
    "    \n",
    "    for i, rated_movie in data_by_user.iterrows():\n",
    "        if predicted_data.get(str(rated_movie['item id'])) != None:\n",
    "            actual_ratings.append(rated_movie['rating'])\n",
    "            predicted_ratings.append(float(predicted_data.get(str(rated_movie['item id']))))\n",
    "\n",
    "root_mean_square_error = sqrt(mean_squared_error(actual_ratings, predicted_ratings))\n",
    "print(root_mean_square_error)\n",
    "    \n",
    "print(len(actual_ratings))\n",
    "print(len(predicted_ratings))"
   ]
  },
  {
   "cell_type": "code",
   "execution_count": 18,
   "metadata": {},
   "outputs": [
    {
     "name": "stdout",
     "output_type": "stream",
     "text": [
      "1.3493624145503242\n",
      "11095\n",
      "11095\n"
     ]
    }
   ],
   "source": [
    "with open('./recommendations/first_three_watch_list_based_avg_rec.json') as file:\n",
    "    new_data = json.load(file)\n",
    "    \n",
    "rating_data_test = pd.read_csv(\"./resource/u1.test\", delimiter=\"\\t\", names=[\"user id\", \"item id\", \"rating\", \"timestamp\"])\n",
    "\n",
    "actual_ratings = []\n",
    "predicted_ratings = []\n",
    "\n",
    "for id in range(1, 944, 1):\n",
    "\n",
    "    data_by_user = rating_data_test.loc[rating_data_test['user id'] == id]\n",
    "    predicted_data = new_data[str(id)]\n",
    "    \n",
    "    for i, rated_movie in data_by_user.iterrows():\n",
    "        if predicted_data.get(str(rated_movie['item id'])) != None:\n",
    "            actual_ratings.append(rated_movie['rating'])\n",
    "            predicted_ratings.append(float(predicted_data.get(str(rated_movie['item id']))))\n",
    "\n",
    "root_mean_square_error = sqrt(mean_squared_error(actual_ratings, predicted_ratings))\n",
    "print(root_mean_square_error)\n",
    "    \n",
    "print(len(actual_ratings))\n",
    "print(len(predicted_ratings))"
   ]
  }
 ],
 "metadata": {
  "kernelspec": {
   "display_name": "Python 3",
   "language": "python",
   "name": "python3"
  },
  "language_info": {
   "codemirror_mode": {
    "name": "ipython",
    "version": 3
   },
   "file_extension": ".py",
   "mimetype": "text/x-python",
   "name": "python",
   "nbconvert_exporter": "python",
   "pygments_lexer": "ipython3",
   "version": "3.6.3"
  }
 },
 "nbformat": 4,
 "nbformat_minor": 2
}
