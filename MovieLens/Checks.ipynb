{
 "cells": [
  {
   "cell_type": "code",
   "execution_count": 3,
   "metadata": {
    "collapsed": true
   },
   "outputs": [],
   "source": [
    "from math import sqrt\n",
    "import pandas as pd"
   ]
  },
  {
   "cell_type": "code",
   "execution_count": 4,
   "metadata": {
    "collapsed": true
   },
   "outputs": [],
   "source": [
    "rating_data = pd.read_csv(\"resource/u.data\", delimiter=\"\\t\", names=[\"user id\", \"item id\", \"rating\", \"timestamp\"])\n",
    "new_user_profiles = pd.read_csv('new_user_profiles.csv')"
   ]
  },
  {
   "cell_type": "code",
   "execution_count": 5,
   "metadata": {},
   "outputs": [
    {
     "data": {
      "text/html": [
       "<div>\n",
       "<style>\n",
       "    .dataframe thead tr:only-child th {\n",
       "        text-align: right;\n",
       "    }\n",
       "\n",
       "    .dataframe thead th {\n",
       "        text-align: left;\n",
       "    }\n",
       "\n",
       "    .dataframe tbody tr th {\n",
       "        vertical-align: top;\n",
       "    }\n",
       "</style>\n",
       "<table border=\"1\" class=\"dataframe\">\n",
       "  <thead>\n",
       "    <tr style=\"text-align: right;\">\n",
       "      <th></th>\n",
       "      <th>user id</th>\n",
       "      <th>item id</th>\n",
       "      <th>rating</th>\n",
       "      <th>timestamp</th>\n",
       "    </tr>\n",
       "  </thead>\n",
       "  <tbody>\n",
       "    <tr>\n",
       "      <th>0</th>\n",
       "      <td>196</td>\n",
       "      <td>242</td>\n",
       "      <td>3</td>\n",
       "      <td>881250949</td>\n",
       "    </tr>\n",
       "    <tr>\n",
       "      <th>1</th>\n",
       "      <td>186</td>\n",
       "      <td>302</td>\n",
       "      <td>3</td>\n",
       "      <td>891717742</td>\n",
       "    </tr>\n",
       "    <tr>\n",
       "      <th>2</th>\n",
       "      <td>22</td>\n",
       "      <td>377</td>\n",
       "      <td>1</td>\n",
       "      <td>878887116</td>\n",
       "    </tr>\n",
       "    <tr>\n",
       "      <th>3</th>\n",
       "      <td>244</td>\n",
       "      <td>51</td>\n",
       "      <td>2</td>\n",
       "      <td>880606923</td>\n",
       "    </tr>\n",
       "    <tr>\n",
       "      <th>4</th>\n",
       "      <td>166</td>\n",
       "      <td>346</td>\n",
       "      <td>1</td>\n",
       "      <td>886397596</td>\n",
       "    </tr>\n",
       "  </tbody>\n",
       "</table>\n",
       "</div>"
      ],
      "text/plain": [
       "   user id  item id  rating  timestamp\n",
       "0      196      242       3  881250949\n",
       "1      186      302       3  891717742\n",
       "2       22      377       1  878887116\n",
       "3      244       51       2  880606923\n",
       "4      166      346       1  886397596"
      ]
     },
     "execution_count": 5,
     "metadata": {},
     "output_type": "execute_result"
    }
   ],
   "source": [
    "rating_data.head()"
   ]
  },
  {
   "cell_type": "code",
   "execution_count": null,
   "metadata": {
    "collapsed": true
   },
   "outputs": [],
   "source": []
  },
  {
   "cell_type": "code",
   "execution_count": 6,
   "metadata": {},
   "outputs": [
    {
     "ename": "NameError",
     "evalue": "name 'common_list' is not defined",
     "output_type": "error",
     "traceback": [
      "\u001b[1;31m---------------------------------------------------------------------------\u001b[0m",
      "\u001b[1;31mNameError\u001b[0m                                 Traceback (most recent call last)",
      "\u001b[1;32m<ipython-input-6-85a3674e94e2>\u001b[0m in \u001b[0;36m<module>\u001b[1;34m()\u001b[0m\n\u001b[1;32m----> 1\u001b[1;33m \u001b[1;32mfor\u001b[0m \u001b[0mitem_id\u001b[0m \u001b[1;32min\u001b[0m \u001b[0mcommon_list\u001b[0m\u001b[1;33m:\u001b[0m\u001b[1;33m\u001b[0m\u001b[0m\n\u001b[0m\u001b[0;32m      2\u001b[0m     \u001b[0muser1_rating\u001b[0m \u001b[1;33m=\u001b[0m \u001b[0muser1_rated_details_by_id\u001b[0m\u001b[1;33m.\u001b[0m\u001b[0mloc\u001b[0m\u001b[1;33m[\u001b[0m\u001b[0muser1_rated_details_by_id\u001b[0m\u001b[1;33m[\u001b[0m\u001b[1;34m'item id'\u001b[0m\u001b[1;33m]\u001b[0m \u001b[1;33m==\u001b[0m \u001b[0mitem_id\u001b[0m\u001b[1;33m]\u001b[0m\u001b[1;33m[\u001b[0m\u001b[1;34m'rating'\u001b[0m\u001b[1;33m]\u001b[0m\u001b[1;33m\u001b[0m\u001b[0m\n\u001b[0;32m      3\u001b[0m     \u001b[0muser2_rating\u001b[0m \u001b[1;33m=\u001b[0m \u001b[0muser2_rated_details_by_id\u001b[0m\u001b[1;33m.\u001b[0m\u001b[0mloc\u001b[0m\u001b[1;33m[\u001b[0m\u001b[0muser2_rated_details_by_id\u001b[0m\u001b[1;33m[\u001b[0m\u001b[1;34m'item id'\u001b[0m\u001b[1;33m]\u001b[0m \u001b[1;33m==\u001b[0m \u001b[0mitem_id\u001b[0m\u001b[1;33m]\u001b[0m\u001b[1;33m[\u001b[0m\u001b[1;34m'rating'\u001b[0m\u001b[1;33m]\u001b[0m\u001b[1;33m\u001b[0m\u001b[0m\n\u001b[0;32m      4\u001b[0m \u001b[1;33m\u001b[0m\u001b[0m\n\u001b[0;32m      5\u001b[0m     \u001b[0mprint\u001b[0m\u001b[1;33m(\u001b[0m\u001b[0muser1_rating\u001b[0m\u001b[1;33m)\u001b[0m\u001b[1;33m\u001b[0m\u001b[0m\n",
      "\u001b[1;31mNameError\u001b[0m: name 'common_list' is not defined"
     ]
    }
   ],
   "source": [
    "# for item_id in common_list:\n",
    "#     user1_rating = user1_rated_details_by_id.loc[user1_rated_details_by_id['item id'] == item_id]['rating']\n",
    "#     user2_rating = user2_rated_details_by_id.loc[user2_rated_details_by_id['item id'] == item_id]['rating']\n",
    "    \n",
    "#     print(user1_rating)"
   ]
  },
  {
   "cell_type": "code",
   "execution_count": null,
   "metadata": {
    "collapsed": true
   },
   "outputs": [],
   "source": [
    "from scipy import spatial\n",
    "\n",
    "def user_similarity_by_features(person_id):\n",
    "    # similar_users = []\n",
    "    scores = []\n",
    "    for i, other_person in new_user_profiles.iterrows():\n",
    "        if other_person['user id'] != person_id:\n",
    "            sim_score,com,p1 = pearson_correlation_watchlist(person_id, other_person['user id'])\n",
    "            \n",
    "            scores.append([sim_score, other_person['user id']])\n",
    "            print(other_person['user id'])\n",
    "#             print(sim_score,com,p1)\n",
    "        break\n",
    "\n",
    "    # Sort the similar persons so that highest scores person will appear at the first\n",
    "    scores.sort()\n",
    "    scores.reverse()\n",
    "    return scores[0:4]\n",
    "\n",
    "\n",
    "print(user_similarity_by_features(113))"
   ]
  },
  {
   "cell_type": "code",
   "execution_count": null,
   "metadata": {
    "collapsed": true
   },
   "outputs": [],
   "source": [
    "train_set = pd.read_csv(\"resource/u1.base\", delimiter=\"\\t\", names=[\"user id\", \"item id\", \"rating\", \"timestamp\"])\n",
    "test_set = pd.read_csv(\"resource/u1.test\", delimiter=\"\\t\", names=[\"user id\", \"item id\", \"rating\", \"timestamp\"])"
   ]
  },
  {
   "cell_type": "code",
   "execution_count": null,
   "metadata": {
    "collapsed": true
   },
   "outputs": [],
   "source": [
    "len(rating_data), len(train_set), len(test_set)\n"
   ]
  },
  {
   "cell_type": "code",
   "execution_count": null,
   "metadata": {
    "collapsed": true
   },
   "outputs": [],
   "source": [
    "import recsys as rs"
   ]
  },
  {
   "cell_type": "code",
   "execution_count": null,
   "metadata": {
    "collapsed": true
   },
   "outputs": [],
   "source": [
    "DATA_PRED = [(3, 2.3), (1, 0.9), (5, 4.9), (2, 0.9), (3, 1.5)]\n",
    "rmse = rs.evaluation.prediction.RMSE(DATA_PRED)\n",
    "print(rmse.compute())"
   ]
  },
  {
   "cell_type": "code",
   "execution_count": null,
   "metadata": {
    "collapsed": true
   },
   "outputs": [],
   "source": [
    "from math import sqrt\n",
    "from sklearn.metrics import mean_squared_error,mean_absolute_error,explained_variance_score\n",
    "\n",
    "y_actual = [1,1,3,4,2,2,3,1,3,5]\n",
    "y_predicted = [1,5,3,4,2,2,3,1,3,5]\n",
    "\n",
    "mse = mean_squared_error(y_actual, y_predicted)\n",
    "rmse = sqrt(mean_squared_error(y_actual, y_predicted))\n",
    "\n",
    "print(mse)\n",
    "print(rmse)"
   ]
  },
  {
   "cell_type": "code",
   "execution_count": null,
   "metadata": {
    "collapsed": true,
    "scrolled": true
   },
   "outputs": [],
   "source": [
    "import json\n",
    "\n",
    "with open('./recommendations/watch_list_basic_rec.json') as file:\n",
    "    new_data = json.load(file)\n",
    "    \n",
    "rating_data_test = pd.read_csv(\"./resource/u1.test\", delimiter=\"\\t\", names=[\"user id\", \"item id\", \"rating\", \"timestamp\"])\n",
    "\n",
    "actual_ratings = []\n",
    "predicted_ratings = []\n",
    "\n",
    "for id in range(1, , 1):\n",
    "\n",
    "    data_by_user = rating_data_test.loc[rating_data_test['user id'] == id]\n",
    "    predicted_data = new_data[str(id)]\n",
    "    \n",
    "    for i, rated_movie in data_by_user.iterrows():\n",
    "        if predicted_data.get(str(rated_movie['item id'])) != None:\n",
    "            actual_ratings.append(rated_movie['rating'])\n",
    "            predicted_ratings.append(int(predicted_data.get(str(rated_movie['item id']))))\n",
    "\n",
    "root_mean_square_error = sqrt(mean_squared_error(actual_ratings, predicted_ratings))\n",
    "print(root_mean_square_error)\n",
    "    \n",
    "print(len(actual_ratings))\n",
    "print(len(predicted_ratings))\n"
   ]
  },
  {
   "cell_type": "code",
   "execution_count": null,
   "metadata": {
    "collapsed": true
   },
   "outputs": [],
   "source": [
    "import json\n",
    "\n",
    "with open('./recommendations/watch_list_weighted_rec.json') as file:\n",
    "    new_data = json.load(file)\n",
    "    \n",
    "rating_data_test = pd.read_csv(\"./resource/u1.test\", delimiter=\"\\t\", names=[\"user id\", \"item id\", \"rating\", \"timestamp\"])\n",
    "\n",
    "actual_ratings = []\n",
    "predicted_ratings = []\n",
    "\n",
    "for id in range(1, 2, 1):\n",
    "\n",
    "    data_by_user = rating_data_test.loc[rating_data_test['user id'] == id]\n",
    "    predicted_data = new_data[str(id)]\n",
    "    \n",
    "    for i, rated_movie in data_by_user.iterrows():\n",
    "        if predicted_data.get(str(rated_movie['item id'])) != None:\n",
    "            actual_ratings.append(rated_movie['rating'])\n",
    "            predicted_ratings.append(int(predicted_data.get(str(rated_movie['item id']))))\n",
    "\n",
    "root_mean_square_error = sqrt(mean_squared_error(actual_ratings, predicted_ratings))\n",
    "print(root_mean_square_error)\n",
    "    \n",
    "print(len(actual_ratings))\n",
    "print(len(predicted_ratings))\n"
   ]
  },
  {
   "cell_type": "code",
   "execution_count": null,
   "metadata": {
    "collapsed": true
   },
   "outputs": [],
   "source": [
    "#20000 - 19940 = 60 is the number of items that the model could not predict the ratings due to no available similar users who has watched the movie and has a positive similarity score."
   ]
  },
  {
   "cell_type": "code",
   "execution_count": null,
   "metadata": {
    "collapsed": true
   },
   "outputs": [],
   "source": [
    "with open('./recommendations/user_feature_based_rec.json') as file:\n",
    "    new_data = json.load(file)\n",
    "    \n",
    "rating_data_test = pd.read_csv(\"./resource/u1.test\", delimiter=\"\\t\", names=[\"user id\", \"item id\", \"rating\", \"timestamp\"])\n",
    "\n",
    "actual_ratings = []\n",
    "predicted_ratings = []\n",
    "\n",
    "for id in range(1, 2, 1):\n",
    "\n",
    "    data_by_user = rating_data_test.loc[rating_data_test['user id'] == id]\n",
    "    predicted_data = new_data[str(id)]\n",
    "    \n",
    "    for i, rated_movie in data_by_user.iterrows():\n",
    "        if predicted_data.get(str(rated_movie['item id'])) != None:\n",
    "            actual_ratings.append(rated_movie['rating'])\n",
    "            predicted_ratings.append(int(predicted_data.get(str(rated_movie['item id']))))\n",
    "\n",
    "root_mean_square_error = sqrt(mean_squared_error(actual_ratings, predicted_ratings))\n",
    "print(root_mean_square_error)\n",
    "    \n",
    "print(len(actual_ratings))\n",
    "print(len(predicted_ratings))"
   ]
  },
  {
   "cell_type": "code",
   "execution_count": 11,
   "metadata": {},
   "outputs": [
    {
     "name": "stdout",
     "output_type": "stream",
     "text": [
      "False\n"
     ]
    }
   ],
   "source": [
    "genre_list = ['Comedy', 'Drama', 'Horror', 'Romance', 'Action']\n",
    "genres_of_movie = [5,6,7]\n",
    "all_other_genres = [1,6,3]\n",
    "\n",
    "print(set(genres_of_movie).isdisjoint(all_other_genres))"
   ]
  },
  {
   "cell_type": "code",
   "execution_count": 27,
   "metadata": {
    "collapsed": true
   },
   "outputs": [],
   "source": [
    "import csv\n",
    "\n",
    "current_data = []\n",
    "# current_data.append([7,\"hi\"])\n",
    "# current_data.append([6,\"bye\"])\n",
    "# current_data.append([2,\"tata\"])\n",
    "current_data.append([5, \"hell23849y78Y98T9*^%&^$&$^&o\"])\n",
    "current_data.append([5, \"hel*&%&$%&ehfjfHGHfgr&^rlo\"])\n",
    "current_data.append([5, \"hello\"])\n",
    "current_data.append([5, \"hello\"])\n",
    "with open(\"action2.csv\", \"w\", newline='') as file:\n",
    "    writer = csv.writer(file)\n",
    "    writer.writerows(current_data)"
   ]
  },
  {
   "cell_type": "code",
   "execution_count": 10,
   "metadata": {},
   "outputs": [
    {
     "name": "stdout",
     "output_type": "stream",
     "text": [
      "0.626\n"
     ]
    }
   ],
   "source": [
    "from math import*\n",
    "\n",
    "def square_rooted(x):\n",
    " \n",
    "    return round(sqrt(sum([a*a for a in x])),3)\n",
    " \n",
    "def cosine_similarity(x,y):\n",
    " \n",
    "    numerator = sum(a*b for a,b in zip(x,y))\n",
    "    denominator = square_rooted(x)*square_rooted(y)\n",
    "    return round(numerator/float(denominator),3)\n",
    " \n",
    "print (cosine_similarity([0, 5, 4, 2], [5, 4, 1, 3]))"
   ]
  },
  {
   "cell_type": "code",
   "execution_count": 13,
   "metadata": {},
   "outputs": [
    {
     "name": "stdout",
     "output_type": "stream",
     "text": [
      "1.0\n"
     ]
    }
   ],
   "source": [
    "import math\n",
    "\n",
    "X = [0.0, 3.207692307692308, 3.207692307692308, 0.0, 0.0, 0.0, 0.0, 0.0, 0.0, 0.0, 0.0, 0.0, 0.0, 0.0, 0.0, 0.0, 3.207692307692308, 0.0, 0.0]\n",
    "Y = [0.0, 3.207692307692308, 3.207692307692308, 0.0, 0.0, 0.0, 0.0, 0.0, 0.0, 0.0, 0.0, 0.0, 0.0, 0.0, 0.0, 0.0, 3.207692307692308, 0.0, 0.0]\n",
    "\n",
    "Xmean = sum(X)/len(X)\n",
    "Ymean = sum(Y)/len(Y)\n",
    "\n",
    "x = [var-Xmean for var in X]\n",
    "y = [var-Ymean for var in Y]\n",
    "\n",
    "xy =[a*b for a,b in list(zip(x,y))]\n",
    "sum_xy = sum(xy)\n",
    "\n",
    "x_square = [a*a for a in x]\n",
    "y_square = [b*b for b in y]\n",
    "\n",
    "sum_x_square = sum(x_square)\n",
    "sum_y_square = sum(y_square)\n",
    "\n",
    "sum_x_square_sum_y_square = sum_x_square*sum_y_square\n",
    "sqrt_sum_x_square_sum_y_square = math.sqrt(sum_x_square_sum_y_square)\n",
    "\n",
    "r = sum_xy/sqrt_sum_x_square_sum_y_square\n",
    "\n",
    "print(r)"
   ]
  },
  {
   "cell_type": "code",
   "execution_count": 28,
   "metadata": {},
   "outputs": [
    {
     "name": "stdout",
     "output_type": "stream",
     "text": [
      "0\n",
      "1\n",
      "2\n",
      "3\n",
      "4\n",
      "5\n",
      "6\n"
     ]
    }
   ],
   "source": [
    "recommendation_list_dict = {}\n",
    "recommendation_list = [[5.0, 1], [4.999999999999999, 422], [4.192627457812105, 1219], [4.192627457812105, 95], [3.9605901719066985, 259], [3.9605901719066976, 1470], [3.9605901719066976, 1066]]\n",
    "\n",
    "for i in range(0, len(recommendation_list), 1):\n",
    "    print(i)\n",
    "# recommendation_list_dict[str(recommendation_list[len(recommendation_list)-1][1])] = str(recommendation_list[len(recommendation_list)-1][0])\n",
    "\n",
    "# print(len(recommendation_list))"
   ]
  },
  {
   "cell_type": "code",
   "execution_count": 34,
   "metadata": {},
   "outputs": [
    {
     "ename": "SyntaxError",
     "evalue": "invalid syntax (<ipython-input-34-429af165eee4>, line 4)",
     "output_type": "error",
     "traceback": [
      "\u001b[1;36m  File \u001b[1;32m\"<ipython-input-34-429af165eee4>\"\u001b[1;36m, line \u001b[1;32m4\u001b[0m\n\u001b[1;33m    print(b[:][])\u001b[0m\n\u001b[1;37m               ^\u001b[0m\n\u001b[1;31mSyntaxError\u001b[0m\u001b[1;31m:\u001b[0m invalid syntax\n"
     ]
    }
   ],
   "source": [
    "a =[['a'], ['b'], ['c'], ['d']]\n",
    "b = [[1,2],[3,4],[5,6]]\n",
    "\n",
    "print(b[:][])"
   ]
  }
 ],
 "metadata": {
  "kernelspec": {
   "display_name": "Python 3",
   "language": "python",
   "name": "python3"
  },
  "language_info": {
   "codemirror_mode": {
    "name": "ipython",
    "version": 3
   },
   "file_extension": ".py",
   "mimetype": "text/x-python",
   "name": "python",
   "nbconvert_exporter": "python",
   "pygments_lexer": "ipython3",
   "version": "3.6.3"
  }
 },
 "nbformat": 4,
 "nbformat_minor": 2
}
